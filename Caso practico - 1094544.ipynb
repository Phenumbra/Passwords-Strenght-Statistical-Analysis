{
 "cells": [
  {
   "cell_type": "markdown",
   "id": "60483155",
   "metadata": {},
   "source": [
    "# <span style=\"color:orange\">Presentación</span>"
   ]
  },
  {
   "cell_type": "markdown",
   "id": "15331334",
   "metadata": {},
   "source": [
    "#### Nombre: Omar Sánchez Díaz\n",
    "#### ID: 1094544\n",
    "#### Asignatura: Laboratorio de Análisis Númerico\n",
    "#### Profesor: Javier García Maimo\n",
    "#### <span style=\"color:red\">Tema:</span> Caso práctico"
   ]
  },
  {
   "cell_type": "markdown",
   "id": "4332bfed",
   "metadata": {},
   "source": [
    "# <span style=\"color:orange\">Detector y mapeado de nivel de seguridad de contraseñas</span>"
   ]
  },
  {
   "cell_type": "markdown",
   "id": "4a1ac05d",
   "metadata": {},
   "source": [
    "## Indice:\n",
    "* [Introducción](#first-bullet)\n",
    "* [Criterios](#second-bullet)\n",
    "* [Planteamiento](#third-bullet)\n",
    "    * [Etapa 1 - Generador de contraseñas aleatorias](#four-bullet)\n",
    "    * [Etapa 2 - Lista de contraseñas aleatorias](#five-bullet)\n",
    "    * [Etapa 3 - Programa para analizar nivel de seguridad](#six-bullet)\n",
    "    * [Etapa 4 - Fortaleza de la lista](#seven-bullet)\n",
    "    * [Etapa 5 - Mapeado de la lista](#eight-bullet)\n",
    "* [Conclusión](#nine-bullet)"
   ]
  },
  {
   "cell_type": "markdown",
   "id": "6bd508e9",
   "metadata": {},
   "source": [
    "#### Introducción <a class=\"anchor\" id=\"first-bullet\"></a>: \n",
    "Las contraseñas están quedando obsoletas, ya que todas pueden ser hackeadas con algoritmos de fuerza bruta usados por ciberdelincuentes, que consisten en insertar una contraseña tras otra, millones y trillones de veces hasta que inserte la adecuada. \n",
    "\n",
    "Sin embargo, las alternativas para refuerzo como la doble autentificación no han sido implementadas por muchas páginas webs por el momento. Por lo cual, busco diseñar un programa para que las páginas puedan detectar la fortaleza de la contraseña insertada por el usuario.\n",
    "\n",
    "Pero, ¿A qué se refiere la fortaleza de una contraseña? Bueno, en base a lo comentado sobre los ataques de fuerza bruta, hay ciertos criterios con los que tiene que cumplir una contraseña para ser más \"fuerte\" contra los ataques de fuerza bruta. O en otras palabras, mientras más de estos criterios se cumplan, más tiempo va a tardar el ataque en dar frutos. Para esto Hive Systems diseño una tabla que muestra dicho criterio:"
   ]
  },
  {
   "cell_type": "markdown",
   "id": "dbfd0806",
   "metadata": {},
   "source": [
    "![title](https://content.spiceworksstatic.com/service.community/p/post_images/0000405784/5f4e51d9/attached_image/Time_it_takes_to_crack_a_password.jpg)"
   ]
  },
  {
   "cell_type": "markdown",
   "id": "7ed58261",
   "metadata": {},
   "source": [
    "#### Criterios <a class=\"anchor\" id=\"second-bullet\"></a>\n",
    "Para la contraseña ser valida debe cumplir con los siguientes criterios:\n",
    "* Tener 8 o más caracteres\n",
    "* Contener 1 o más números\n",
    "* Contener 1 o más símbolos\n",
    "* Contener 1 o más letras en mayúscula\n",
    "* Contener 1 o más letras en minúscula"
   ]
  },
  {
   "cell_type": "markdown",
   "id": "162441f9",
   "metadata": {},
   "source": [
    "#### Planteamiento <a class=\"anchor\" id=\"third-bullet\"></a>\n",
    "* **Etapa 1**: Diseñaremos un generador de contraseñas aleatorias, para hacer un caso practico de nuestro programa.\n",
    "* **Etapa 2**: Creación de lista de contraseñas aleatorias para mapeado\n",
    "* **Etapa 3**: Diseñaremos el programa para verificar la fortaleza de las diferentes contraseñas generadas aleatoriamente.\n",
    "* **Etapa 4**: Verificaremos la fortaleza de la lista generada en la etapa 2\n",
    "* **Etapa 5**: Mapearemos los resultados obtenidos de las diferentes contraseñas, para visualizar la cantidad de contraseñas erradas por parte del generador de contraseñas que actua como los usuarios."
   ]
  },
  {
   "cell_type": "markdown",
   "id": "b210d55c",
   "metadata": {},
   "source": [
    "### Etapa 1: Generador de contraseñas <a class=\"anchor\" id=\"four-bullet\"></a>"
   ]
  },
  {
   "cell_type": "code",
   "execution_count": 69,
   "id": "51667884",
   "metadata": {
    "scrolled": true
   },
   "outputs": [],
   "source": [
    "import string\n",
    "import random\n",
    "\n",
    "## Crea una lista de caracteres que usaremos\n",
    "characters = list(string.ascii_letters + string.digits + \"!@#$%^&*()\")\n",
    "\n",
    "def generador_aleatorio():\n",
    "\t## Longitud = Generara aleatoriamente la longitud de la contraseña, yendo de 0 a 15\n",
    "\tlongitud = (random.randint(1,15))\n",
    "\n",
    "\t## Mezcla aleatoriamente los caracteres de la lista\n",
    "\trandom.shuffle(characters)\n",
    "\t\n",
    "\t## Escoge caracteres de la lista aleatoriamente\n",
    "\tpassword = []\n",
    "\tfor i in range(longitud):\n",
    "\t\tpassword.append(random.choice(characters))\n",
    "\n",
    "\t## Mezcla aleatoriamente la contraseña generada\n",
    "\trandom.shuffle(password)\n",
    "\n",
    "\t## convertimos la contraseña a string\n",
    "\tpsw = (\"\".join(password))\n",
    "\treturn psw\n",
    "    "
   ]
  },
  {
   "cell_type": "markdown",
   "id": "e5c5743f",
   "metadata": {},
   "source": [
    "### Etapa 2: Creación de lista de contraseñas aleatorias para mapeado <a class=\"anchor\" id=\"five-bullet\"></a>"
   ]
  },
  {
   "cell_type": "code",
   "execution_count": 74,
   "id": "2972d2f0",
   "metadata": {},
   "outputs": [
    {
     "name": "stdout",
     "output_type": "stream",
     "text": [
      "Tamaño de la lista:  400\n",
      "\n",
      "Lista aleatoria\n",
      "['vYxSxl1ewpX', 'LH0T3)e', 'u!%QrJc8np$^', 'AbmN*42HM2', '@s0', 'ePF', '$BP', 'G5Zh$lTI9', 'N)Lfg@Obuu', 'RvB@!t)#VWm1MR', 'Pw0qlm@%oQABzka', '32OQ', '#', 'G93', 'j7H%Uv@8b@5^i', 'O0CDF0&6acGwTD8', 'jKN&KTEH3^', 'Pc@&^U%H', 'kLw', '!AP^#2&a', 'zBq', 'oEvDj2lMh8V(U', '16ILEQ5kAD@L9', '$Rb', 'AN', 'e3FIA', 'Y@5f', 'Zg', '@mK2C', 'cTw#D1No', 'PDYjsUqxa', 'Ap4QRskQ^hvng', '612Xbo', 'dDEZl4cCgggrn', 'X2GddDD@', 'WYj9VuXD%U5469E', 's99YvE', '@(ZpKFmH9TZg&(', 'L!', 'lxQ64R(%$h7', 'QxhtoInk@', 'GvfRW(gt6d!8Z7', 'mbynTJE0jaBY', 'P57', 'w1MUNe', 'FlT', 'fT)$GLap#Gx', 'lrlt6BW', 'kDMngk$bsB#', 'eKVUVSqOObG1', '4uQE*Z%Pd%v', '7mB!SnR7r8^c1^', '6L0x#', '6q6^(tUHtwN', ')I%gz#!', '&dblk', 'usITYEq', 'T#', 'Ae)j', '98T7n*u', 'RI8qjL(bTS', 'Ia^YHv', 'F5k$', 'JUoEUXNJ', 'h', 'jtrWcdbRpCePb1', 'SbmmBP', '^J&z4!^', '$Wsud%XrQ9^A0', 'v^pn$AQ@', 'MDb*S8', 'pRbOC9)4c', 'B3!', 'PQg#uA', 'DDR', 'heD$Cgm^JQ', 'gPLVjm', 'ZDw2o82QBie*Dj1', 'd4', '3hgV', 'SOg6Y!XRK#S*', 'vdCFd3EJS!ZcJ9)', 'Pb(H5*3Bto!B', ')(LZ%', 'pIGsdG', '%bN8vX7zpx', '6TN^q9OBIK', '#7@8P', 'yTaOQRFl%Iad', 'cma', '(fqbeDos5V', '(6ZH$v&oEB', 'n6sH3fl^Tvg', 'nJ', 'qp', 'b!pSXy', '4GZoqIE)5', '8StM%z8M', '&tvUh', '(GZit', 'Bxx0$aCVcXhCO', 'V', '3l9f*xRyuLsk', 's$jT3', 'FLa7uWFZmz3D', 'iFm19', 'yGTV$kOaf1t)', 'o4jRCmi^F0*DX#', 'sXn14z', 'V79SRfOk', 'Ye0pkn#39O', 'p9fZFBq!', '33', '^kI707sIOobL4(', 'cnKn9@pTFnXe', '6!6dASTlp0CwgmI', 'z*GECH1hqPtBiR', '1Lj@kOk*ewQWavh', ')Sj@RtdsVVbw', 'M8X', 'F7EGtn', 'B', 'iRb', '%K$QQ6q(QQ', 'uY0', 'cp3^k5Pb', 'TXAm8pneMK', '@MP*LbL)', ')DH', '!KAT', '4R', 'Bv^A(LX&PgU', 'CPTV', '%hz6', 'wINSmEcDhn6', '@RusAOsLO)Hjq', 'iOeRJ08*)Sek1c6', 'E', '^rm', 'Y', 'S%gZOH&EI', '9jmXZE2Qvx%3f', 'Fv^dh', '5E5qmoPU', 'JNvow)PoFyKFU8T', 'fpdys', 'al88Ve', 'X5VMSX', 'R#!h4', '@', 'cg', 'J2dG', 'I0cCtMnm^qAl2', '5hN', 'vMTJy#i&Zm^&a', 'wCHiXeBcx0v', 'F*@A', 'lEPkP6', 'B%lbwsZxEvx#', 'b!kB0T', 'Ubt2%MP58J%', 'K^L', 'Li', 'B4yY', ')j**y#0H8Tes4yF', 'g@fg', 'fc*LqvjM8p', 'xvVVB)5DU1vB2', '#', '1%QXtzcBkXUFh', 'e5', '$nRQ7f%l5vwt', 'eLz!n2gpkq@E', 'W!Fy6q14HJ6Jl(', 'mMzJN9F', 'ljjkd43iKkK&Rkc', '6d', 'Gid', 'fD7)9Yyv', 'AjZC6MHn^Yr%16h', '5phxK0!(', '5YcQ', 'F', '^', 'qEq3sBJulPs', 'O5nj6peuh)vQM', '51r', 'm*qf94afyJz6U', 'zHmRDN#', 'LM*a', 'Qy9y%I*)5', 'I7sITO0', 'TIR0t', '*DR1A)z6SwbKb', 'h&r7z!5sx1CSEg', 'tqhsnDE', 'HzHs%eQo*', 'cWE39Zw^@', 'bJL%mbWHu', 'm*r)E&qCkR#(Xp#', '5BRRBviWV', ')', '6gT2(6^iCjp!lg', '7z(rpOHPQY', 'o$mT7sDyW', '!byS', 'RL', 'UE@@T', '#grogrsSUAK', ')IXlW5tME5WoHL', 'hG&zB$%Ti', 'aG5)3Sp708f', 'SId8R14v8q9W2%p', 'qMFsW', 'ZUZR(9G', 'mcV#6*o58oVp', 'AoV', 'Asi(C', 'ZGm$SwLZys', 'DM', 'aIkS572(Swy)', 'z0*XPx$', '8W', 'YGd(OO4R6)wEhw', 'I*Pnr*s*ZM&U', '(rBC', 'eZ%kyG)!p', '@5AYT4TaMZ', '!EygrAQ04yTwx', '!6Mud', ')H', '^c2zKO2iCAe', 'FSU', 'Mk8', 'nsDJY4', 'R5DdqcV', 'jGxcz^gs7oiIKk', '@bv9JRqfY1J', '9*hccx^', 't6xHQ#DSE6CbW', 'M6', 'i', 'BM&$ApG', 'SjHr9S9CTrJ', 'CUYEc26NGR9', 'WYB', '$D!UwBiN', 'V(aKQo5Ej', 'Ey5fSnk#!', 'SngshdO21u', 'G(z)Gxb16Bcc07', 'cUxlskgi)u', 'u7capt#0awzz', 'z*qc8g', 'd%@KFF@^o6x)', 'C', '@)n4ffzT', '8H)Tj@a0CU$(g', '1S', 'QZgC^$24Hl@y#IK', 'FccjXvxfx#S*l', 'Nqz', '$lK@vGK6', 'KShUcD9&S#', 'oLXs%xZBYMn', 'zJ&', 'CSBh&Gq', 'k0hIJ^HSnh*l89', 'NIwpr9DB', 'jo@SnTn0F', 'T', '0tvLBxZ', 'A^yw0I3XvxuzU8p', '1', 'n$1C!mfT!', 'h', '^H*baMtvQquN^', '8pLC#Udhpw$S(', 'PL7', '0cAYi*1ArO', '1AG1T^MZdAYhTNu', '9^REjDBXaTL&*zH', 'ajB9', '8pFjE', 'ROByLhcnF', 'yv0E1U(D', '(j)', '$0iGn1m9', 'w#g', 'ldpq1)Jsc*c9Ut', '2SY^Qu8xf0', '3hO5qifJgJ', '2', '4', 's96s', '9al@lEOSIW', 'oaP2J', 's1ptlU*z', '6HJ', '2Ci', '8IGN', 'dB8H&TdHv', 'KkoIY', 'MY#^', 'uwulkzBlf', 'plFYQcGj3', 'CJxgX7Lu', 'n^cBJU@', '*2^F^y*', 'Q3vya(!CrC2&G', 'obv0yh', '@E', '1R4odW8DJ', 'QtWtwIoXFgl8', '!mSid(3de', '3m', 'YcX7lUzkxv', 'Jpg$aLf', '9', '58&XgRjIKI', ')Ve3XZBRoz8AI', '!N*KVt', '8', '%D&rNBvHVQ', '4#x&q8kdIbowcNJ', 'kSEnYXm', 'MNqfZZr3pzx', 'wpBTAG1Vz3IZY$', 'yX4K', 'd', '7))2KoYfvqWJ', '8Xc@OekN)xy5&', 'UFNFt@ch', 'f!8U', 'yq(igC*b@m4oAO!', 'wMO', '6zQ', 'D@Ek84HEgF^4*DO', 'GEwGex!h3', 'SLCK', 'bVmmn5bZEVwy', 'bSf#Fo0eklRl&j', '8WNB(j', 'ns!JS*&Wg', '2bKsnl$GcT6d', 'mBSE#ekA', 'A2cLk&Z7U4RWTW', '(!0q)(uC3', 'YdlHAQT2vj', 'UYX@7oM)(PdW1wz', 'lmd', 'BDhlK^k9', 'r7HJZXJ', 'WNzAiA*xhEon', 'enF', 'z!V63njp1x', 'S(0', 'HD3oYUTg3YXB', 'YCcYB', '5T%', 't&', 'agBvVFEFI', 'vn!6s', 'vR*(!A', 'DR$OG)rNpzq(', 'i%', 'I', 'dU%d', 'L', 'iA4p', 'd5%', 'UU&WUPM&g7zmvPW', 'hs(68$bgeEGlv!', '@C$Gs#m', 'u!*82ZFmNIK', '&BiUm4Y', 'Qt)#91%2i', 'YFxdS6&N57', 'tq3Er^', 'x3Hw(Q2', '8rszgvO*', 'mF%', '6', 'EqP6$6RUhN', 'br0t3', 'cXD90#', 'MdL^sPeLno5Y', 'v', 'COmy5rGNsFb', 'Ki7kbXGa64lZ!', 'hPaE@Pvx(', 'JG', 'I3iKY!HtAOE#', ')m9cy8khVh3F2', 'Yx', 'RRqdX', 'F0', 'sl*OIAw0', '5a4QHa2@GakPOq', ')nwJO']\n"
     ]
    }
   ],
   "source": [
    "##Iteraciones para el bucle\n",
    "i = 0\n",
    "\n",
    "##Lista de contraseñas\n",
    "lista = []\n",
    "\n",
    "##Bucle para añadir contraseñas aleatorias a la lista\n",
    "##En este caso, usaremos 400 contraseñas para la lista\n",
    "while (i < 400):\n",
    "    lista.append(generador_aleatorio())\n",
    "    i +=1\n",
    "\n",
    "##Mostraremos la lista\n",
    "print(\"Tamaño de la lista: \",len(lista))\n",
    "print(\"\\nLista aleatoria\")\n",
    "print(lista)"
   ]
  },
  {
   "cell_type": "markdown",
   "id": "a0928dda",
   "metadata": {},
   "source": [
    "### Etapa 3: Algoritmo para verificar la fortaleza de las contraseñas generadas <a class=\"anchor\" id=\"six-bullet\"></a>"
   ]
  },
  {
   "cell_type": "code",
   "execution_count": 75,
   "id": "175408cc",
   "metadata": {},
   "outputs": [],
   "source": [
    "##Libreria para expresiones regulares\n",
    "import re\n",
    "\n",
    "##Para este programa, tendremos en cuenta el criterio mencionado anteriormente\n",
    "def Verificar(password):\n",
    "\n",
    "    ## Criterio longitud: 8 o mayor\n",
    "    longitud_invalida = len(password) < 8\n",
    "\n",
    "    ## Criterio números: 1 o más\n",
    "    digitos_invalido = re.search(r\"\\d\", password) is None\n",
    "\n",
    "    ## Criterio mayuscula: 1 o más\n",
    "    Mayuscula_invalida = re.search(r\"[A-Z]\", password) is None\n",
    "\n",
    "    ## Criterio minuscula: 1 o más\n",
    "    Minuscula_invalida = re.search(r\"[a-z]\", password) is None\n",
    "\n",
    "    ## Criterio simbolos: 1 o más\n",
    "    simbolos_invalido = re.search(r\"\\W\", password) is None\n",
    "\n",
    "    ## Validez\n",
    "    password_valida = not ( longitud_invalida or digitos_invalido or Mayuscula_invalida or Minuscula_invalida or simbolos_invalido )\n",
    "\n",
    "    ##En caso de que uno de los 5 criterios no se cumpla, arrojara \"true\" o verdadero, ya que el criterio es invalido.\n",
    "    ##De igual forma, si se cumplen todos los 5 criterios (en fake), la contraseña es valida y arrojara \"true\" o verdadero.\n",
    "    return {\n",
    "        'Contraseña valida' : password_valida,\n",
    "        'longitud invalida' : longitud_invalida,\n",
    "        'digitos_invalido' : digitos_invalido,\n",
    "        'Mayuscula_invalida' : Mayuscula_invalida,\n",
    "        'Minuscula_invalida' : Minuscula_invalida,\n",
    "        'simbolos_invalido' : simbolos_invalido,\n",
    "    }"
   ]
  },
  {
   "cell_type": "markdown",
   "id": "e4c3f7c9",
   "metadata": {},
   "source": [
    "###  Algoritmo para realizar el mapeado"
   ]
  },
  {
   "cell_type": "code",
   "execution_count": 80,
   "id": "856a9bf0",
   "metadata": {},
   "outputs": [],
   "source": [
    "#Este metodo es el mismo que el anterior, pero su objetivo es catalogar las contraseñas en 1(validas), 0(invalidas)\n",
    "#Para de este modo, poder realizar el mapeado de las mismas\n",
    "\n",
    "def Verificar_valor(password):\n",
    "    ## Criterio longitud: 8 o mayor\n",
    "    longitud_invalida = len(password) < 8\n",
    "\n",
    "    ## Criterio números: 1 o más\n",
    "    digitos_invalido = re.search(r\"\\d\", password) is None\n",
    "\n",
    "    ## Criterio mayuscula: 1 o más\n",
    "    Mayuscula_invalida = re.search(r\"[A-Z]\", password) is None\n",
    "\n",
    "    ## Criterio minuscula: 1 o más\n",
    "    Minuscula_invalida = re.search(r\"[a-z]\", password) is None\n",
    "\n",
    "    ## Criterio simbolos: 1 o más\n",
    "    simbolos_invalido = re.search(r\"\\W\", password) is None\n",
    "\n",
    "    ## Validez\n",
    "    password_valida = not ( longitud_invalida or digitos_invalido or Mayuscula_invalida or Minuscula_invalida or simbolos_invalido )\n",
    "\n",
    "    if password_valida:\n",
    "        return 1\n",
    "    else:\n",
    "        return 0"
   ]
  },
  {
   "cell_type": "markdown",
   "id": "2d69d77c",
   "metadata": {},
   "source": [
    "### Etapa 4: Verificación de la fortaleza de las contraseñas generadas <a class=\"anchor\" id=\"seven-bullet\"></a>"
   ]
  },
  {
   "cell_type": "code",
   "execution_count": 85,
   "id": "61aa20af",
   "metadata": {},
   "outputs": [
    {
     "name": "stdout",
     "output_type": "stream",
     "text": [
      "Contraseña:  vYxSxl1ewpX\n",
      "{'Contraseña valida': False, 'longitud invalida': False, 'digitos_invalido': False, 'Mayuscula_invalida': False, 'Minuscula_invalida': False, 'simbolos_invalido': True}\n",
      "Contraseña:  LH0T3)e\n",
      "{'Contraseña valida': False, 'longitud invalida': True, 'digitos_invalido': False, 'Mayuscula_invalida': False, 'Minuscula_invalida': False, 'simbolos_invalido': False}\n",
      "Contraseña:  u!%QrJc8np$^\n",
      "{'Contraseña valida': True, 'longitud invalida': False, 'digitos_invalido': False, 'Mayuscula_invalida': False, 'Minuscula_invalida': False, 'simbolos_invalido': False}\n",
      "Contraseña:  AbmN*42HM2\n",
      "{'Contraseña valida': True, 'longitud invalida': False, 'digitos_invalido': False, 'Mayuscula_invalida': False, 'Minuscula_invalida': False, 'simbolos_invalido': False}\n",
      "Contraseña:  @s0\n",
      "{'Contraseña valida': False, 'longitud invalida': True, 'digitos_invalido': False, 'Mayuscula_invalida': True, 'Minuscula_invalida': False, 'simbolos_invalido': False}\n",
      "Contraseña:  ePF\n",
      "{'Contraseña valida': False, 'longitud invalida': True, 'digitos_invalido': True, 'Mayuscula_invalida': False, 'Minuscula_invalida': False, 'simbolos_invalido': True}\n",
      "Contraseña:  $BP\n",
      "{'Contraseña valida': False, 'longitud invalida': True, 'digitos_invalido': True, 'Mayuscula_invalida': False, 'Minuscula_invalida': True, 'simbolos_invalido': False}\n",
      "Contraseña:  G5Zh$lTI9\n",
      "{'Contraseña valida': True, 'longitud invalida': False, 'digitos_invalido': False, 'Mayuscula_invalida': False, 'Minuscula_invalida': False, 'simbolos_invalido': False}\n",
      "Contraseña:  N)Lfg@Obuu\n",
      "{'Contraseña valida': False, 'longitud invalida': False, 'digitos_invalido': True, 'Mayuscula_invalida': False, 'Minuscula_invalida': False, 'simbolos_invalido': False}\n",
      "Contraseña:  RvB@!t)#VWm1MR\n",
      "{'Contraseña valida': True, 'longitud invalida': False, 'digitos_invalido': False, 'Mayuscula_invalida': False, 'Minuscula_invalida': False, 'simbolos_invalido': False}\n",
      "Contraseña:  Pw0qlm@%oQABzka\n",
      "{'Contraseña valida': True, 'longitud invalida': False, 'digitos_invalido': False, 'Mayuscula_invalida': False, 'Minuscula_invalida': False, 'simbolos_invalido': False}\n",
      "Contraseña:  32OQ\n",
      "{'Contraseña valida': False, 'longitud invalida': True, 'digitos_invalido': False, 'Mayuscula_invalida': False, 'Minuscula_invalida': True, 'simbolos_invalido': True}\n",
      "Contraseña:  #\n",
      "{'Contraseña valida': False, 'longitud invalida': True, 'digitos_invalido': True, 'Mayuscula_invalida': True, 'Minuscula_invalida': True, 'simbolos_invalido': False}\n",
      "Contraseña:  G93\n",
      "{'Contraseña valida': False, 'longitud invalida': True, 'digitos_invalido': False, 'Mayuscula_invalida': False, 'Minuscula_invalida': True, 'simbolos_invalido': True}\n",
      "Contraseña:  j7H%Uv@8b@5^i\n",
      "{'Contraseña valida': True, 'longitud invalida': False, 'digitos_invalido': False, 'Mayuscula_invalida': False, 'Minuscula_invalida': False, 'simbolos_invalido': False}\n",
      "Contraseña:  O0CDF0&6acGwTD8\n",
      "{'Contraseña valida': True, 'longitud invalida': False, 'digitos_invalido': False, 'Mayuscula_invalida': False, 'Minuscula_invalida': False, 'simbolos_invalido': False}\n",
      "Contraseña:  jKN&KTEH3^\n",
      "{'Contraseña valida': True, 'longitud invalida': False, 'digitos_invalido': False, 'Mayuscula_invalida': False, 'Minuscula_invalida': False, 'simbolos_invalido': False}\n",
      "Contraseña:  Pc@&^U%H\n",
      "{'Contraseña valida': False, 'longitud invalida': False, 'digitos_invalido': True, 'Mayuscula_invalida': False, 'Minuscula_invalida': False, 'simbolos_invalido': False}\n",
      "Contraseña:  kLw\n",
      "{'Contraseña valida': False, 'longitud invalida': True, 'digitos_invalido': True, 'Mayuscula_invalida': False, 'Minuscula_invalida': False, 'simbolos_invalido': True}\n",
      "Contraseña:  !AP^#2&a\n",
      "{'Contraseña valida': True, 'longitud invalida': False, 'digitos_invalido': False, 'Mayuscula_invalida': False, 'Minuscula_invalida': False, 'simbolos_invalido': False}\n",
      "Contraseña:  zBq\n",
      "{'Contraseña valida': False, 'longitud invalida': True, 'digitos_invalido': True, 'Mayuscula_invalida': False, 'Minuscula_invalida': False, 'simbolos_invalido': True}\n",
      "Contraseña:  oEvDj2lMh8V(U\n",
      "{'Contraseña valida': True, 'longitud invalida': False, 'digitos_invalido': False, 'Mayuscula_invalida': False, 'Minuscula_invalida': False, 'simbolos_invalido': False}\n",
      "Contraseña:  16ILEQ5kAD@L9\n",
      "{'Contraseña valida': True, 'longitud invalida': False, 'digitos_invalido': False, 'Mayuscula_invalida': False, 'Minuscula_invalida': False, 'simbolos_invalido': False}\n",
      "Contraseña:  $Rb\n",
      "{'Contraseña valida': False, 'longitud invalida': True, 'digitos_invalido': True, 'Mayuscula_invalida': False, 'Minuscula_invalida': False, 'simbolos_invalido': False}\n",
      "Contraseña:  AN\n",
      "{'Contraseña valida': False, 'longitud invalida': True, 'digitos_invalido': True, 'Mayuscula_invalida': False, 'Minuscula_invalida': True, 'simbolos_invalido': True}\n",
      "Contraseña:  e3FIA\n",
      "{'Contraseña valida': False, 'longitud invalida': True, 'digitos_invalido': False, 'Mayuscula_invalida': False, 'Minuscula_invalida': False, 'simbolos_invalido': True}\n"
     ]
    }
   ],
   "source": [
    "##lista de contraseñas verificadas\n",
    "verificados = []\n",
    "u = 0\n",
    "##Verificaremos cada contraseña de la lista generada aleatoriamente, y la añaderemos a la lista de verificados\n",
    "for x in lista:\n",
    "    ##Mostraremos 25 contraseñas para confirmar\n",
    "    if u <26:\n",
    "        u +=1\n",
    "        print(\"Contraseña: \",x)\n",
    "        print(Verificar(x))\n",
    "    \n",
    "    ##Agregaremos a la lista de verificados, el valor de las contraseñas\n",
    "    ##1 si son validas, 0 si son invalidas\n",
    "    verificados.append(Verificar_valor(x))"
   ]
  },
  {
   "cell_type": "markdown",
   "id": "49684d92",
   "metadata": {},
   "source": [
    "### Etapa 5: Mapeo de las contraseñas procesadas anteriormente <a class=\"anchor\" id=\"eight-bullet\"></a>"
   ]
  },
  {
   "cell_type": "code",
   "execution_count": 86,
   "id": "47b8512a",
   "metadata": {},
   "outputs": [
    {
     "name": "stdout",
     "output_type": "stream",
     "text": [
      "140\n",
      "260\n"
     ]
    },
    {
     "data": {
      "image/png": "[encoded data removed]",
      "text/plain": [
       "<Figure size 432x288 with 1 Axes>"
      ]
     },
     "metadata": {
      "needs_background": "light"
     },
     "output_type": "display_data"
    }
   ],
   "source": [
    "#Libreria para graficar\n",
    "import matplotlib.pyplot as plt\n",
    "\n",
    "#Listas para separar las contraseñas\n",
    "validas = []\n",
    "Invalidas = []\n",
    "\n",
    "#Proceso de separación en base a su validez, 0 para invalidas, 1 para validas\n",
    "for x in verificados:\n",
    "    if x == 0:\n",
    "        Invalidas.append(x)\n",
    "    else:\n",
    "        validas.append(x)\n",
    "\n",
    "print(len(validas))\n",
    "print(len(Invalidas))\n",
    "#GRAFICA\n",
    "x = [\"Validas\", \"Invalidas\"]\n",
    "y = [len(validos), len(Invalidos)]\n",
    "plt.bar(x, y, color = ['g','r'])\n",
    "plt.title(\"Contraseñas verificadas\")\n",
    "plt.ylabel('Cantidad de contraseñas')\n",
    "plt.xlabel('Validez')\n",
    "plt.show()"
   ]
  },
  {
   "cell_type": "markdown",
   "id": "55e02a01",
   "metadata": {},
   "source": [
    "### Conclusión<a class=\"anchor\" id=\"nine-bullet\"></a>\n",
    "Con este proyecto hemos podido simular con un algoritmo aleatorio las contraseñas ingresadas en una página web. Dichas contraseñas las hemos verificado con el criterio anti-fuerza bruta planteado. Como hemos visto al final del proyecto, 140 contraseñas resultaron ser validas, <span style=\"color:red\">lo que apenas es un 35 % de 400, una cifra preocupante, mientras que 260 resultaron ser invalidas, lo que resulta ser un 65%</span>. Lo que demuestra lo <span style=\"color:red\">desprotegidas</span> que están las personas que se registren en páginas web que no implementen algoritmos como este que acabo de desarrollar.\n",
    "\n",
    "Con esto me despido, y espero que hayan disfrutado de este proyecto tanto como lo he hecho yo."
   ]
  }
 ],
 "metadata": {
  "kernelspec": {
   "display_name": "Python 3",
   "language": "python",
   "name": "python3"
  },
  "language_info": {
   "codemirror_mode": {
    "name": "ipython",
    "version": 3
   },
   "file_extension": ".py",
   "mimetype": "text/x-python",
   "name": "python",
   "nbconvert_exporter": "python",
   "pygments_lexer": "ipython3",
   "version": "3.8.8"
  }
 },
 "nbformat": 4,
 "nbformat_minor": 5
}
